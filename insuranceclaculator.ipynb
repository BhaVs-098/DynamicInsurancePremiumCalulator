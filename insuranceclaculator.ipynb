{
  "nbformat": 4,
  "nbformat_minor": 0,
  "metadata": {
    "colab": {
      "provenance": [],
      "mount_file_id": "12hYgQ1fsrf3qs4OgjJbWUa5CK_xOBjmi",
      "authorship_tag": "ABX9TyNxNlRbcji5i1Cv8L6VjCal",
      "include_colab_link": true
    },
    "kernelspec": {
      "name": "python3",
      "display_name": "Python 3"
    },
    "language_info": {
      "name": "python"
    }
  },
  "cells": [
    {
      "cell_type": "markdown",
      "metadata": {
        "id": "view-in-github",
        "colab_type": "text"
      },
      "source": [
        "<a href=\"https://colab.research.google.com/github/BhaVs-098/DynamicInsurancePremiumCalulator/blob/main/insuranceclaculator.ipynb\" target=\"_parent\"><img src=\"https://colab.research.google.com/assets/colab-badge.svg\" alt=\"Open In Colab\"/></a>"
      ]
    },
    {
      "cell_type": "code",
      "execution_count": 1,
      "metadata": {
        "colab": {
          "base_uri": "https://localhost:8080/"
        },
        "id": "N63T714qBNdC",
        "outputId": "8086c101-e9c4-4981-d78e-9f1845b9f058"
      },
      "outputs": [
        {
          "output_type": "stream",
          "name": "stdout",
          "text": [
            "   Base Premium  Market Adj Factor  Final Premium\n",
            "0  10195.058594               1.03   10500.910156\n",
            "1   7180.468262               1.03    7395.882324\n",
            "2  29030.884766               1.03   29901.810547\n",
            "3   8679.317383               1.03    8939.696289\n",
            "4  34552.839844               1.03   35589.425781\n"
          ]
        }
      ],
      "source": [
        "import pandas as pd\n",
        "from sklearn.model_selection import train_test_split\n",
        "from xgboost import XGBRegressor\n",
        "import numpy as np\n",
        "\n",
        "# Load dataset\n",
        "df = pd.read_csv(\"insurance.csv\")  # from Kaggle link\n",
        "\n",
        "# Encode categorical vars\n",
        "df['smoker'] = df['smoker'].map({'yes': 1, 'no': 0})\n",
        "df['sex'] = df['sex'].map({'male': 1, 'female': 0})\n",
        "df = pd.get_dummies(df, columns=['region'], drop_first=True)\n",
        "\n",
        "# Split\n",
        "X = df.drop('charges', axis=1)\n",
        "y = df['charges']\n",
        "\n",
        "X_train, X_test, y_train, y_test = train_test_split(X, y, test_size=0.2, random_state=42)\n",
        "\n",
        "# Base risk model\n",
        "base_model = XGBRegressor(n_estimators=100, learning_rate=0.1)\n",
        "base_model.fit(X_train, y_train)\n",
        "\n",
        "# Predict base premiums\n",
        "base_premiums = base_model.predict(X_test)\n",
        "\n",
        "# Market adjustment (simulated)\n",
        "inflation_rate = 0.05  # 5% simulated\n",
        "competitor_discount = -0.02  # e.g., 2% discount trend\n",
        "\n",
        "market_adjustment_factor = 1 + inflation_rate + competitor_discount\n",
        "\n",
        "final_premiums = base_premiums * market_adjustment_factor\n",
        "\n",
        "# Example output\n",
        "quote_df = pd.DataFrame({\n",
        "    'Base Premium': base_premiums,\n",
        "    'Market Adj Factor': market_adjustment_factor,\n",
        "    'Final Premium': final_premiums\n",
        "})\n",
        "\n",
        "print(quote_df.head())\n"
      ]
    }
  ]
}